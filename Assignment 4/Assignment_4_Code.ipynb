{
 "cells": [
  {
   "cell_type": "markdown",
   "id": "81bfcd0f",
   "metadata": {},
   "source": [
    "# Assignment 4"
   ]
  },
  {
   "cell_type": "markdown",
   "id": "86567eb8",
   "metadata": {},
   "source": [
    "**Part 2**"
   ]
  },
  {
   "cell_type": "code",
   "execution_count": 1,
   "id": "3b08f9f5",
   "metadata": {},
   "outputs": [],
   "source": [
    "import numpy as np\n",
    "import matplotlib.pyplot as plt\n",
    "import pandas as pd"
   ]
  },
  {
   "cell_type": "code",
   "execution_count": 2,
   "id": "b85bfb6e",
   "metadata": {},
   "outputs": [
    {
     "data": {
      "text/plain": [
       "21.05263157894737"
      ]
     },
     "execution_count": 2,
     "metadata": {},
     "output_type": "execute_result"
    }
   ],
   "source": [
    "20/0.95"
   ]
  },
  {
   "cell_type": "code",
   "execution_count": 12,
   "id": "a76601a0",
   "metadata": {},
   "outputs": [],
   "source": [
    "Cap = 20e6/(66e3*np.sqrt(3)*0.95)"
   ]
  },
  {
   "cell_type": "code",
   "execution_count": 15,
   "id": "f3d077f3",
   "metadata": {},
   "outputs": [
    {
     "data": {
      "text/plain": [
       "4.072484461296322"
      ]
     },
     "execution_count": 15,
     "metadata": {},
     "output_type": "execute_result"
    }
   ],
   "source": [
    "750/Cap"
   ]
  },
  {
   "cell_type": "code",
   "execution_count": 16,
   "id": "5ff336d0",
   "metadata": {},
   "outputs": [
    {
     "data": {
      "text/plain": [
       "92.08138264587335"
      ]
     },
     "execution_count": 16,
     "metadata": {},
     "output_type": "execute_result"
    }
   ],
   "source": [
    "20e6/(132e3*np.sqrt(3)*0.95)"
   ]
  },
  {
   "cell_type": "code",
   "execution_count": 17,
   "id": "ef967af3",
   "metadata": {},
   "outputs": [
    {
     "data": {
      "text/plain": [
       "4.604691572545613"
      ]
     },
     "execution_count": 17,
     "metadata": {},
     "output_type": "execute_result"
    }
   ],
   "source": [
    "424/92.08"
   ]
  },
  {
   "cell_type": "markdown",
   "id": "aa3842a0",
   "metadata": {},
   "source": [
    "**Part 3**"
   ]
  },
  {
   "cell_type": "code",
   "execution_count": null,
   "id": "56679a03",
   "metadata": {},
   "outputs": [
    {
     "data": {
      "text/plain": [
       "301.7925327108012"
      ]
     },
     "execution_count": 20,
     "metadata": {},
     "output_type": "execute_result"
    }
   ],
   "source": []
  },
  {
   "cell_type": "code",
   "execution_count": null,
   "id": "b9ee0e3c",
   "metadata": {},
   "outputs": [],
   "source": []
  }
 ],
 "metadata": {
  "kernelspec": {
   "display_name": "base",
   "language": "python",
   "name": "python3"
  },
  "language_info": {
   "codemirror_mode": {
    "name": "ipython",
    "version": 3
   },
   "file_extension": ".py",
   "mimetype": "text/x-python",
   "name": "python",
   "nbconvert_exporter": "python",
   "pygments_lexer": "ipython3",
   "version": "3.12.4"
  }
 },
 "nbformat": 4,
 "nbformat_minor": 5
}

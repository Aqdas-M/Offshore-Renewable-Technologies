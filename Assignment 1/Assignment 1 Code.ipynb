{
 "cells": [
  {
   "cell_type": "markdown",
   "id": "1c781b47",
   "metadata": {},
   "source": [
    "# Assignment 1"
   ]
  },
  {
   "cell_type": "code",
   "execution_count": 1,
   "id": "14871aaa",
   "metadata": {},
   "outputs": [],
   "source": [
    "import numpy as np\n",
    "import matplotlib.pyplot as plt\n",
    "import pandas as pd"
   ]
  },
  {
   "cell_type": "code",
   "execution_count": null,
   "id": "1aa7bc03",
   "metadata": {},
   "outputs": [],
   "source": [
    "# loading data\n",
    "\n",
    "data_BAR = pd.read_csv('BAR_LowSP_6.5MW_234.csv')\n",
    "data_IEA10 = pd.read_csv('IEA_10MW_198_RWT.csv')\n",
    "data_IEA15 = pd.read_csv('IEA_15MW_240_RWT.csv')\n"
   ]
  },
  {
   "cell_type": "markdown",
   "id": "1c0e3824",
   "metadata": {},
   "source": [
    "### Part 1: The Wind Resource"
   ]
  },
  {
   "cell_type": "code",
   "execution_count": null,
   "id": "51bb35a7",
   "metadata": {},
   "outputs": [],
   "source": []
  }
 ],
 "metadata": {
  "kernelspec": {
   "display_name": "base",
   "language": "python",
   "name": "python3"
  },
  "language_info": {
   "codemirror_mode": {
    "name": "ipython",
    "version": 3
   },
   "file_extension": ".py",
   "mimetype": "text/x-python",
   "name": "python",
   "nbconvert_exporter": "python",
   "pygments_lexer": "ipython3",
   "version": "3.12.11"
  }
 },
 "nbformat": 4,
 "nbformat_minor": 5
}
